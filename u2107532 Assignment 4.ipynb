{
 "cells": [
  {
   "cell_type": "code",
   "execution_count": 2,
   "id": "2fd7c38e",
   "metadata": {},
   "outputs": [],
   "source": [
    "import numpy as np \n",
    "import math"
   ]
  },
  {
   "cell_type": "code",
   "execution_count": 49,
   "id": "bcaf1153",
   "metadata": {},
   "outputs": [],
   "source": [
    "\n",
    "def game(x):\n",
    "    a=1\n",
    "    for i in range(x):\n",
    "        if a<x:\n",
    "            a=a+np.random.randint(1,3)\n",
    "        else:\n",
    "            a=a\n",
    "    return(a)\n",
    "        \n",
    "        "
   ]
  },
  {
   "cell_type": "code",
   "execution_count": 50,
   "id": "06078ecf",
   "metadata": {},
   "outputs": [],
   "source": [
    "def count(x, n):\n",
    "    r=[]\n",
    "    for i in range (n):\n",
    "        b=game(x)\n",
    "        r.append(b)\n",
    "    y=r.count(x)\n",
    "    print(y)\n",
    "    p=y/n\n",
    "    print(p)"
   ]
  },
  {
   "cell_type": "code",
   "execution_count": 51,
   "id": "7c411f1b",
   "metadata": {},
   "outputs": [
    {
     "name": "stdout",
     "output_type": "stream",
     "text": [
      "66646\n",
      "0.66646\n"
     ]
    }
   ],
   "source": [
    "count(25,100000)"
   ]
  },
  {
   "cell_type": "code",
   "execution_count": 52,
   "id": "81628ba0",
   "metadata": {},
   "outputs": [],
   "source": [
    "def probabilityodd(x):\n",
    "    c=int(x/2)\n",
    "    p=0\n",
    "    print(c)\n",
    "    for i in range (c+1): \n",
    "        p=p+((1/(2**(x-1-(2*i))))*(1/(2**i))*(math.comb(x-1-i,i)))\n",
    "    print(p)\n",
    "    \n",
    "    "
   ]
  },
  {
   "cell_type": "code",
   "execution_count": 53,
   "id": "22207b48",
   "metadata": {},
   "outputs": [
    {
     "name": "stdout",
     "output_type": "stream",
     "text": [
      "12\n",
      "0.6666666865348816\n"
     ]
    }
   ],
   "source": [
    "probabilityodd(25)"
   ]
  },
  {
   "cell_type": "code",
   "execution_count": 55,
   "id": "c5c8d29b",
   "metadata": {},
   "outputs": [],
   "source": [
    "def probabilityeven(x):\n",
    "    c=int((x-1)/2)\n",
    "    p=0\n",
    "    print(c)\n",
    "    for i in range (c+1):\n",
    "        p=p+((1/(2**(x-1-(2*i))))*(1/(2**i))*(math.comb(x-1-i,i)))\n",
    "    print(p)"
   ]
  },
  {
   "cell_type": "code",
   "execution_count": 56,
   "id": "c13a2fb7",
   "metadata": {},
   "outputs": [
    {
     "name": "stdout",
     "output_type": "stream",
     "text": [
      "129\n",
      "0.6666666666666667\n"
     ]
    }
   ],
   "source": [
    "probabilityeven(260)"
   ]
  },
  {
   "cell_type": "code",
   "execution_count": 61,
   "id": "4c0c989d",
   "metadata": {},
   "outputs": [],
   "source": [
    "def game1(x,k):\n",
    "    a=1\n",
    "    for i in range(x):\n",
    "        if a<x:\n",
    "            a=a+np.random.randint(1,k+1)\n",
    "        else:\n",
    "            a=a\n",
    "    return(a)\n",
    "def count1(x, n,k):\n",
    "    r=[]\n",
    "    for i in range (n):\n",
    "        b=game1(x,k)\n",
    "        r.append(b)\n",
    "    y=r.count(x)\n",
    "    print(y)\n",
    "    p=y/n\n",
    "    print(p)"
   ]
  },
  {
   "cell_type": "code",
   "execution_count": 62,
   "id": "c8bba4b3",
   "metadata": {},
   "outputs": [
    {
     "name": "stdout",
     "output_type": "stream",
     "text": [
      "4934\n",
      "0.4934\n"
     ]
    }
   ],
   "source": [
    "count1(150, 10000,3)"
   ]
  },
  {
   "cell_type": "code",
   "execution_count": null,
   "id": "3408b6e7",
   "metadata": {},
   "outputs": [],
   "source": []
  }
 ],
 "metadata": {
  "kernelspec": {
   "display_name": "Python 3 (ipykernel)",
   "language": "python",
   "name": "python3"
  },
  "language_info": {
   "codemirror_mode": {
    "name": "ipython",
    "version": 3
   },
   "file_extension": ".py",
   "mimetype": "text/x-python",
   "name": "python",
   "nbconvert_exporter": "python",
   "pygments_lexer": "ipython3",
   "version": "3.9.7"
  }
 },
 "nbformat": 4,
 "nbformat_minor": 5
}
